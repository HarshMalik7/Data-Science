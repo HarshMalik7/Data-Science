{
 "cells": [
  {
   "cell_type": "markdown",
   "id": "a3b2d172",
   "metadata": {},
   "source": [
    "# Project Details\n",
    "\n",
    "### For this project, we are using the TMDb (The Movie Database) API.\n",
    "TMDb API enables you to find out the latest information about TV Shows, Movies and the biggest names in entertainment sector for a marvelous and fun TV/Movie watching experience.\n",
    "\n",
    "### Our Motivation for using TMDb API\n",
    "By collecting the data using TMDb API one can recommend TV Shows, Movies and all sorts of entertainment on the basis of user’s affinity to specific genres, actors, likes and dislikes.\n",
    "We can find details about upcoming TV Shows and Movies.\n",
    "We can find what is the most popular and/ or exclusive/new content at a given time."
   ]
  },
  {
   "cell_type": "code",
   "execution_count": 2,
   "id": "bae1b05e",
   "metadata": {},
   "outputs": [],
   "source": [
    "import requests\n",
    "import json"
   ]
  },
  {
   "cell_type": "markdown",
   "id": "66339ae6",
   "metadata": {},
   "source": [
    "## TMDb 1.1\n",
    "Find the 'id' of the movie \"Andhadhun\" using TMDb API."
   ]
  },
  {
   "cell_type": "code",
   "execution_count": 3,
   "id": "af4e256e",
   "metadata": {},
   "outputs": [
    {
     "name": "stdout",
     "output_type": "stream",
     "text": [
      "534780\n"
     ]
    }
   ],
   "source": [
    "p = {'api_key' : '5df26b6c1a53c3e5f9537434fb9e0b8c', 'query' : 'Andhadhun'}\n",
    "r = requests.get('https://api.themoviedb.org/3/search/movie', params = p)\n",
    "r = r.json()\n",
    "\n",
    "print(r['results'][0]['id'])"
   ]
  },
  {
   "cell_type": "markdown",
   "id": "ad59cf2b",
   "metadata": {},
   "source": [
    "## TMDb 1.2\n",
    "Fetch the company id company 'Marvel Studios' using TMDb. Print the id."
   ]
  },
  {
   "cell_type": "code",
   "execution_count": 4,
   "id": "ccd842b6",
   "metadata": {},
   "outputs": [
    {
     "name": "stdout",
     "output_type": "stream",
     "text": [
      "420\n"
     ]
    }
   ],
   "source": [
    "p = {'api_key' : '5df26b6c1a53c3e5f9537434fb9e0b8c', 'query' : 'Marvel Studios'}\n",
    "r = requests.get('https://api.themoviedb.org/3/search/company', params = p)\n",
    "r = r.json()\n",
    "print(r['results'][0]['id'])"
   ]
  },
  {
   "cell_type": "markdown",
   "id": "998d5175",
   "metadata": {},
   "source": [
    "## TMDb 1.3\n",
    "Find the vote count and vote average of the movie \"3 Idiots\" using the TMDb API"
   ]
  },
  {
   "cell_type": "code",
   "execution_count": 5,
   "id": "6b6c7550",
   "metadata": {},
   "outputs": [
    {
     "name": "stdout",
     "output_type": "stream",
     "text": [
      "Vote Count : 1948 , Vote Average : 8\n"
     ]
    }
   ],
   "source": [
    "p = {'api_key' : '5df26b6c1a53c3e5f9537434fb9e0b8c', 'query' : '3 Idiots'}\n",
    "r = requests.get('https://api.themoviedb.org/3/search/movie', params = p)\n",
    "r = r.json()\n",
    "\n",
    "print('Vote Count :', r['results'][0]['vote_count'], ', Vote Average :', r['results'][0]['vote_average'])"
   ]
  },
  {
   "cell_type": "markdown",
   "id": "d2309132",
   "metadata": {},
   "source": [
    "## TMDb 1.4\n",
    "Fetch the names of top 5 similar movies to 'Inception' from the TMDb API."
   ]
  },
  {
   "cell_type": "code",
   "execution_count": 6,
   "id": "ebdecbd3",
   "metadata": {},
   "outputs": [
    {
     "name": "stdout",
     "output_type": "stream",
     "text": [
      "Inception\n",
      "The Inugamis\n",
      "Chronicle\n",
      "Inferno of Torture\n",
      "Detachment\n"
     ]
    }
   ],
   "source": [
    "p = {'api_key' : '5df26b6c1a53c3e5f9537434fb9e0b8c', 'query' : 'Inception'}\n",
    "r = requests.get('https://api.themoviedb.org/3/search/movie', params = p)\n",
    "r = r.json()\n",
    "\n",
    "p1 = {'api_key' : '5df26b6c1a53c3e5f9537434fb9e0b8c'}\n",
    "res = requests.get('https://api.themoviedb.org/3/movie/846190/similar',params=p1) \n",
    "data = res.json()\n",
    "\n",
    "for i in data['results'][:5]:\n",
    "    print(i['title'])"
   ]
  },
  {
   "cell_type": "markdown",
   "id": "34fc5cca",
   "metadata": {},
   "source": [
    "## TMDb 1.5\n",
    "Fetch the top rated english movies in the US region using the TMDb API. From the result, print the first 10 movies which have original language as english. Also print their genres."
   ]
  },
  {
   "cell_type": "code",
   "execution_count": 7,
   "id": "392b76d0",
   "metadata": {},
   "outputs": [
    {
     "name": "stdout",
     "output_type": "stream",
     "text": [
      "The Godfather  - Drama, Crime, \n",
      "The Shawshank Redemption  - Drama, Crime, \n",
      "The Godfather Part II  - Drama, Crime, \n",
      "Schindler's List  - Drama, History, War, \n",
      "12 Angry Men  - Drama, \n",
      "The Green Mile  - Fantasy, Drama, Crime, \n",
      "The Dark Knight  - Drama, Action, Crime, Thriller, \n",
      "Gabriel's Inferno: Part II  - Romance, \n",
      "Gabriel's Inferno  - Romance, \n",
      "Pulp Fiction  - Thriller, Crime, \n"
     ]
    }
   ],
   "source": [
    "p = {'api_key' : '5df26b6c1a53c3e5f9537434fb9e0b8c'}\n",
    "r = requests.get('https://api.themoviedb.org/3/genre/movie/list', params = p)\n",
    "r = r.json()\n",
    "\n",
    "genre = {}\n",
    "for i in r['genres']:\n",
    "    genre[i['id']] = i['name']\n",
    "    \n",
    "p = {'api_key' : '5df26b6c1a53c3e5f9537434fb9e0b8c', 'region' : 'US'}\n",
    "r = requests.get('https://api.themoviedb.org/3/movie/top_rated', params = p)\n",
    "r = r.json()\n",
    "\n",
    "result = 0\n",
    "for i in r['results']:\n",
    "    if result == 10:\n",
    "        break\n",
    "    if i['original_language'] != 'en':\n",
    "        continue\n",
    "    print(i['title'], ' - ', end='')\n",
    "    for j in i['genre_ids']:\n",
    "        print(genre[j], end=', ')\n",
    "    print()\n",
    "    result += 1"
   ]
  },
  {
   "cell_type": "markdown",
   "id": "d131654e",
   "metadata": {},
   "source": [
    "## TMDb 2.1\n",
    "Find the name and birthplace of the present most popular person according to TMDb API."
   ]
  },
  {
   "cell_type": "code",
   "execution_count": 8,
   "id": "4a5803f8",
   "metadata": {},
   "outputs": [
    {
     "name": "stdout",
     "output_type": "stream",
     "text": [
      "974169\n"
     ]
    }
   ],
   "source": [
    "p = {'api_key' : '5df26b6c1a53c3e5f9537434fb9e0b8c'}\n",
    "r = requests.get('https://api.themoviedb.org/3/person/popular', params = p)\n",
    "r = r.json()\n",
    "print(r['results'][0]['id'])"
   ]
  },
  {
   "cell_type": "code",
   "execution_count": 9,
   "id": "6c4c44a3",
   "metadata": {},
   "outputs": [
    {
     "name": "stdout",
     "output_type": "stream",
     "text": [
      "3194176\n",
      "Angeli Khang  -  Mandaluyong City, Philippines\n"
     ]
    }
   ],
   "source": [
    "r = requests.get('https://api.themoviedb.org/3/person/3194176', params = p)\n",
    "r = r.json()\n",
    "print(r['id'])\n",
    "print(r['name'],' - ' ,r['place_of_birth'])"
   ]
  },
  {
   "cell_type": "markdown",
   "id": "a4baf810",
   "metadata": {},
   "source": [
    "## TMDb 2.2\n",
    "Fetch the Instagram and Twitter handle of Indian Actress \"Alia Bhatt\" from the TMDb API."
   ]
  },
  {
   "cell_type": "code",
   "execution_count": 10,
   "id": "f6ef787b",
   "metadata": {},
   "outputs": [
    {
     "data": {
      "text/plain": [
       "1108120"
      ]
     },
     "execution_count": 10,
     "metadata": {},
     "output_type": "execute_result"
    }
   ],
   "source": [
    "p = {'api_key' : '5df26b6c1a53c3e5f9537434fb9e0b8c', 'query' : 'Alia Bhatt'}\n",
    "r = requests.get('https://api.themoviedb.org/3/search/person', params = p)\n",
    "r = r.json()\n",
    "id = r['results'][0]['id']\n",
    "id"
   ]
  },
  {
   "cell_type": "code",
   "execution_count": 11,
   "id": "e406dadb",
   "metadata": {},
   "outputs": [
    {
     "name": "stdout",
     "output_type": "stream",
     "text": [
      "aliaabhatt Aliaa08\n"
     ]
    }
   ],
   "source": [
    "p = {'api_key' : '5df26b6c1a53c3e5f9537434fb9e0b8c'}\n",
    "r = requests.get('https://api.themoviedb.org/3/person/1108120/external_ids', params = p)\n",
    "r = r.json()\n",
    "print(r['instagram_id'], r['twitter_id'])"
   ]
  },
  {
   "cell_type": "markdown",
   "id": "035cb064",
   "metadata": {},
   "source": [
    "## TMDb 2.3\n",
    "Fetch the names of the character played by Tom Cruise in the movies:\n",
    "\"Top Gun\", \n",
    "\"Mission: Impossible - Fallout\", \n",
    "\"Minority Report\", \n",
    "\"Edge of Tomorrow\""
   ]
  },
  {
   "cell_type": "code",
   "execution_count": 12,
   "id": "829b5fc9",
   "metadata": {},
   "outputs": [
    {
     "name": "stdout",
     "output_type": "stream",
     "text": [
      "Lt. Pete 'Maverick' Mitchell\n",
      "Ethan Hunt\n",
      "Chief John Anderton\n",
      "Maj. William 'Bill' Cage\n"
     ]
    }
   ],
   "source": [
    "movies = ['Top Gun', 'Mission: Impossible - Fallout', 'Minority Report', 'Edge of Tomorrow']\n",
    "ids = []\n",
    "for i in range(len(movies)):\n",
    "    p = {'api_key' : '5df26b6c1a53c3e5f9537434fb9e0b8c', 'query' : movies[i]}\n",
    "    r = requests.get('https://api.themoviedb.org/3/search/movie', params = p)\n",
    "    r = r.json()\n",
    "    for j in r['results']:\n",
    "        if j['title'] == movies[i]:\n",
    "            ids.append(str(j['id']))\n",
    "            break\n",
    "\n",
    "for i in range(len(ids)):\n",
    "    p = {'api_key' : '5df26b6c1a53c3e5f9537434fb9e0b8c'}\n",
    "    r = requests.get('https://api.themoviedb.org/3/movie/'+ids[i]+'/credits', params = p)\n",
    "    r = r.json()\n",
    "    print(r['cast'][0]['character'])"
   ]
  },
  {
   "cell_type": "markdown",
   "id": "12b2a93e",
   "metadata": {},
   "source": [
    "# TMDb 2.4\n",
    "Did James McAvoy play a role in the movie Deadpool 2. Print Yes or No."
   ]
  },
  {
   "cell_type": "code",
   "execution_count": 13,
   "id": "dbaae5eb",
   "metadata": {},
   "outputs": [
    {
     "name": "stdout",
     "output_type": "stream",
     "text": [
      "Yes\n"
     ]
    }
   ],
   "source": [
    "p = {'api_key' : '5df26b6c1a53c3e5f9537434fb9e0b8c', 'query' : 'Deadpool 2'}\n",
    "r = requests.get('https://api.themoviedb.org/3/search/movie', params = p)\n",
    "r = r.json()\n",
    "for i in r['results']:\n",
    "    if i['title'] == 'Deadpool 2':\n",
    "        id = str(i['id'])\n",
    "        break\n",
    "        \n",
    "p = {'api_key' : '5df26b6c1a53c3e5f9537434fb9e0b8c'}\n",
    "r = requests.get('https://api.themoviedb.org/3/movie/'+id+'/credits', params = p)\n",
    "r = r.json()\n",
    "\n",
    "for i in r['cast']:\n",
    "    if i['name'] == 'James McAvoy':\n",
    "        print('Yes')\n",
    "        break\n",
    "else:\n",
    "    print('No')"
   ]
  },
  {
   "cell_type": "markdown",
   "id": "ef463cf5",
   "metadata": {},
   "source": [
    "# TMDb 2.5\n",
    "Using the result obtained in previous question, find out if James McAvoy was credited for his role in movie Deadpool 2. Print Yes or No."
   ]
  },
  {
   "cell_type": "code",
   "execution_count": 14,
   "id": "fd946825",
   "metadata": {},
   "outputs": [
    {
     "name": "stdout",
     "output_type": "stream",
     "text": [
      "No\n"
     ]
    }
   ],
   "source": [
    "p = {'api_key' : '5df26b6c1a53c3e5f9537434fb9e0b8c', 'query' : 'Deadpool 2'}\n",
    "r = requests.get('https://api.themoviedb.org/3/search/movie', params = p)\n",
    "r = r.json()\n",
    "for i in r['results']:\n",
    "    if i['title'] == 'Deadpool 2':\n",
    "        id = str(i['id'])\n",
    "        break\n",
    "        \n",
    "p = {'api_key' : '5df26b6c1a53c3e5f9537434fb9e0b8c'}\n",
    "r = requests.get('https://api.themoviedb.org/3/movie/'+id+'/credits', params = p)\n",
    "r = r.json()\n",
    "\n",
    "chara = ''\n",
    "for i in r['cast']:\n",
    "    if i['name'] == 'James McAvoy':\n",
    "        chara = i['character']\n",
    "        break\n",
    "        \n",
    "b = chara.find('(')\n",
    "if b != -1:\n",
    "    print('No')\n",
    "else:\n",
    "    print('Yes')"
   ]
  },
  {
   "cell_type": "markdown",
   "id": "940f9ef1",
   "metadata": {},
   "source": [
    "# TMDb 3.1\n",
    "Fetch the overview of the TV Show \"FRIENDS\" using TMDb API."
   ]
  },
  {
   "cell_type": "code",
   "execution_count": 15,
   "id": "d7e164e6",
   "metadata": {},
   "outputs": [
    {
     "name": "stdout",
     "output_type": "stream",
     "text": [
      "Six young people from New York City, on their own and struggling to survive in the real world, find the companionship, comfort and support they get from each other to be the perfect antidote to the pressures of life.\n"
     ]
    }
   ],
   "source": [
    "p = {'api_key' : '5df26b6c1a53c3e5f9537434fb9e0b8c', 'query' : 'FRIENDS'}\n",
    "r = requests.get('https://api.themoviedb.org/3/search/tv', params = p)\n",
    "r = r.json()\n",
    "print(r['results'][0]['overview'])"
   ]
  },
  {
   "cell_type": "markdown",
   "id": "0a47af2d",
   "metadata": {},
   "source": [
    "# TMDb 3.2\n",
    "Fetch the name and air date of S06E05 of the TV Show 'The Big Bang Theory' from TMDb API."
   ]
  },
  {
   "cell_type": "code",
   "execution_count": 16,
   "id": "3614ee81",
   "metadata": {},
   "outputs": [
    {
     "name": "stdout",
     "output_type": "stream",
     "text": [
      "The Holographic Excitation  -  2012-10-25\n"
     ]
    }
   ],
   "source": [
    "p = {'api_key' : '5df26b6c1a53c3e5f9537434fb9e0b8c', 'query' : 'The Big Bang Theory'}\n",
    "r = requests.get('https://api.themoviedb.org/3/search/tv', params = p)\n",
    "r = r.json()\n",
    "id = r['results'][0]['id']\n",
    "\n",
    "p = {'api_key' : '5df26b6c1a53c3e5f9537434fb9e0b8c'}\n",
    "r = requests.get('https://api.themoviedb.org/3/tv/'+str(id)+'/season/06/episode/05', params = p)\n",
    "r = r.json()\n",
    "print(r['name'], ' - ', r['air_date'])"
   ]
  },
  {
   "cell_type": "markdown",
   "id": "b099d35f",
   "metadata": {},
   "source": [
    "# TMDb 3.3\n",
    "Fetch the trending TV Shows for the week from the TMDb API and print the taglines of the top 5 shows. If there is no tagline, print 'Empty' instead"
   ]
  },
  {
   "cell_type": "code",
   "execution_count": 17,
   "id": "baa08cf1",
   "metadata": {},
   "outputs": [
    {
     "name": "stdout",
     "output_type": "stream",
     "text": [
      "Empty\n",
      "What is lost will be found.\n",
      "The next great adventure begins.\n",
      "The Rebellion begins.\n",
      "Empty\n"
     ]
    }
   ],
   "source": [
    "p = {'api_key' : '5df26b6c1a53c3e5f9537434fb9e0b8c'}\n",
    "r = requests.get('https://api.themoviedb.org/3/trending/tv/week', params = p)\n",
    "r = r.json()\n",
    "id = []\n",
    "\n",
    "count = 0\n",
    "for i in r['results']:\n",
    "    if count == 5:\n",
    "        break\n",
    "    res = requests.get('https://api.themoviedb.org/3/tv/'+str(i['id']), params = p) \n",
    "    data = res.json()\n",
    "    count+=1\n",
    "    if data['tagline'] != '':\n",
    "        print(data['tagline'])\n",
    "    else:\n",
    "        print('Empty')"
   ]
  },
  {
   "cell_type": "markdown",
   "id": "7b9b33d4",
   "metadata": {},
   "source": [
    "# TMDb 3.4\n",
    "Print the names of all the TV shows to be aired today whose original language is english."
   ]
  },
  {
   "cell_type": "code",
   "execution_count": 18,
   "id": "8c5696ff",
   "metadata": {},
   "outputs": [
    {
     "name": "stdout",
     "output_type": "stream",
     "text": [
      "Strictly Come Dancing: It Takes Two\n",
      "¿Cómo se llama esta relación?\n",
      "Faltu\n",
      "Bhagya Lakshmi\n",
      "Saturday Night Live\n",
      "Reef School\n",
      "Whose Line Is It Anyway?\n",
      "PBS News Weekend\n",
      "The Gadget Show\n",
      "Strictly Come Dancing\n",
      "The Kitchen\n",
      "Cook's Country\n",
      "On Patrol: Live\n",
      "On Patrol: First Shift\n",
      "Woodsmith Shop\n",
      "I Can See Your Voice\n",
      "Haunted Hospitals\n",
      "Hidden London Hangouts\n",
      "Makeover by Monday\n",
      "WWE The SmackDown LowDown\n",
      "Uptown Otters\n",
      "Floga kai Anemos\n",
      "Castle Howard: Through the Seasons\n",
      "Oh My Korona\n",
      "Drunken Truth With Jin\n",
      "NWA USA\n",
      "Zombie House Flipping\n",
      "Naked News\n",
      "Rabb Se Hai Dua\n",
      "Louisiana Law\n"
     ]
    }
   ],
   "source": [
    "p = {'api_key' : '5df26b6c1a53c3e5f9537434fb9e0b8c'}\n",
    "r = requests.get('https://api.themoviedb.org/3/tv/on_the_air', params = p)\n",
    "r = r.json()\n",
    "total_pages = r['total_pages']\n",
    "\n",
    "for j in range(1, total_pages+1):\n",
    "    p = {'api_key' : '5df26b6c1a53c3e5f9537434fb9e0b8c', 'page' : j}\n",
    "    r = requests.get('https://api.themoviedb.org/3/tv/airing_today', params = p)\n",
    "    r = r.json()\n",
    "\n",
    "    for i in r['results']:\n",
    "        if i['original_language'] == 'en':\n",
    "            print(i['name'])"
   ]
  },
  {
   "cell_type": "markdown",
   "id": "ff17f764",
   "metadata": {},
   "source": [
    "# TMDb 3.5\n",
    "Count the number of males and females in the cast of \"Money Heist\" using the TMDb API."
   ]
  },
  {
   "cell_type": "code",
   "execution_count": 19,
   "id": "0946e43b",
   "metadata": {},
   "outputs": [
    {
     "name": "stdout",
     "output_type": "stream",
     "text": [
      "10 5\n"
     ]
    }
   ],
   "source": [
    "p = {'api_key' : '5df26b6c1a53c3e5f9537434fb9e0b8c', 'query' : 'Money Heist'}\n",
    "r = requests.get('https://api.themoviedb.org/3/search/tv', params = p)\n",
    "r = r.json()\n",
    "\n",
    "id = 0\n",
    "for i in r['results']:\n",
    "    if i['name'] == 'Money Heist':\n",
    "        id = i['id']\n",
    "        break\n",
    "        \n",
    "p = {'api_key' : '5df26b6c1a53c3e5f9537434fb9e0b8c'}\n",
    "r = requests.get('https://api.themoviedb.org/3//tv/'+str(id)+'/credits', params = p)\n",
    "r = r.json()\n",
    "female = 0\n",
    "male = 0\n",
    "\n",
    "for i in r['cast']:\n",
    "    if i['gender'] == 1:\n",
    "        female+=1\n",
    "    else:\n",
    "        male+=1\n",
    "        \n",
    "print(male, female)"
   ]
  }
 ],
 "metadata": {
  "kernelspec": {
   "display_name": "Python 3",
   "language": "python",
   "name": "python3"
  },
  "language_info": {
   "codemirror_mode": {
    "name": "ipython",
    "version": 3
   },
   "file_extension": ".py",
   "mimetype": "text/x-python",
   "name": "python",
   "nbconvert_exporter": "python",
   "pygments_lexer": "ipython3",
   "version": "3.8.8"
  }
 },
 "nbformat": 4,
 "nbformat_minor": 5
}
